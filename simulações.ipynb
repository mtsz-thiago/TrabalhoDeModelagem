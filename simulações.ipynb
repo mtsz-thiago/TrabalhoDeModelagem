{
 "cells": [
  {
   "cell_type": "code",
   "execution_count": 23,
   "metadata": {},
   "outputs": [],
   "source": [
    "import sys\n",
    "import matplotlib.pyplot as plt\n",
    "import numpy as np\n",
    "import scipy.signal as signal\n",
    "import control as ct\n",
    "from control.matlab import *\n",
    "plt.rcParams['axes.grid'] = True\n",
    "\n",
    "from datetime import date\n",
    "import os"
   ]
  },
  {
   "cell_type": "code",
   "execution_count": null,
   "metadata": {
    "vscode": {
     "languageId": "r"
    }
   },
   "outputs": [],
   "source": [
    "# Get the current date\n",
    "current_date = date.today().strftime(\"%Y-%m-%d\")\n",
    "\n",
    "# Create the directory path\n",
    "directory_path = f\"output/{current_date}\"\n",
    "\n",
    "# Create the directory\n",
    "os.makedirs(directory_path, exist_ok=True)\n",
    "\n",
    "# # Save parametros_normais to YAML file\n",
    "# parametros_normais_file = os.path.join(directory_path, \"parametros_normais.yaml\")\n",
    "# with open(parametros_normais_file, \"w\") as file:\n",
    "#     yaml.dump(parametros_normais, file)\n",
    "\n",
    "# # Save parametros_diabetes to YAML file\n",
    "# parametros_diabetes_file = os.path.join(directory_path, \"parametros_diabetes.yaml\")\n",
    "# with open(parametros_diabetes_file, \"w\") as file:\n",
    "#     yaml.dump(parametros_diabetes, file)"
   ]
  },
  {
   "cell_type": "code",
   "execution_count": 28,
   "metadata": {},
   "outputs": [
    {
     "ename": "NameError",
     "evalue": "name 'directory_path' is not defined",
     "output_type": "error",
     "traceback": [
      "\u001b[0;31m---------------------------------------------------------------------------\u001b[0m",
      "\u001b[0;31mNameError\u001b[0m                                 Traceback (most recent call last)",
      "Cell \u001b[0;32mIn[28], line 1\u001b[0m\n\u001b[0;32m----> 1\u001b[0m \u001b[43mdirectory_path\u001b[49m\n",
      "\u001b[0;31mNameError\u001b[0m: name 'directory_path' is not defined"
     ]
    }
   ],
   "source": [
    "directory_path"
   ]
  },
  {
   "cell_type": "code",
   "execution_count": 24,
   "metadata": {},
   "outputs": [],
   "source": [
    "def getModeloMinimo(p_1: float, p_2: float, p_3: float, g_e: float, i_e: float):\n",
    "    \n",
    "    def modeloMinimoStateUpdateFun(t, c, u, params):\n",
    "        p_1 = params[\"p_1\"]\n",
    "        p_2 = params[\"p_2\"]\n",
    "        p_3 = params[\"p_3\"]\n",
    "        g_e = params[\"g_e\"]\n",
    "        i_e = params[\"i_e\"]\n",
    "        \n",
    "        c_constrained = np.clip(c, [0, 0], [sys.float_info.max, sys.float_info.max])\n",
    "        u_constrained = np.clip(u, i_e, sys.float_info.max)\n",
    "        \n",
    "        dc_0 = -p_1*c_constrained[0] + c_constrained[1]*c_constrained[0] + p_1*g_e\n",
    "        dc_1 = -p_2*c_constrained[1] + p_3*(u_constrained[0]-i_e)\n",
    "        \n",
    "        dc_dt = np.array([dc_0, dc_1]).reshape(-1)\n",
    "        return dc_dt\n",
    "    \n",
    "    def modeloMinimoStateOutputFun(t, c, u, params):\n",
    "        return c\n",
    "    \n",
    "    params_dict = {\n",
    "        \"p_1\": p_1,\n",
    "        \"p_2\": p_2,\n",
    "        \"p_3\": p_3,\n",
    "        \"g_e\": g_e,\n",
    "        \"i_e\": i_e\n",
    "    }\n",
    "    \n",
    "    system = ct.NonlinearIOSystem(\n",
    "        updfcn = modeloMinimoStateUpdateFun,\n",
    "        outfcn = modeloMinimoStateOutputFun,\n",
    "        inputs = [\"u\"],\n",
    "        outputs = [\"c_g\", \"c_i\"],\n",
    "        states = [\"c_g\", \"c_i\"],\n",
    "        dt = 0,\n",
    "        name = \"Modelo Mínimo\",\n",
    "        params = params_dict\n",
    "    )\n",
    "    \n",
    "    return system"
   ]
  },
  {
   "cell_type": "code",
   "execution_count": 25,
   "metadata": {},
   "outputs": [],
   "source": [
    "def pmol_to_gd_per_liter(pmol: float, molar_mass: float):\n",
    "    return (pmol*molar_mass)/1e12"
   ]
  },
  {
   "cell_type": "code",
   "execution_count": 26,
   "metadata": {},
   "outputs": [],
   "source": [
    "parametros_normais = {\n",
    "    \"p_1\": .03,\n",
    "    \"p_2\": .6,\n",
    "    \"p_3\": .42,\n",
    "    \"g_e\": 1,\n",
    "    \"i_e\": pmol_to_gd_per_liter(174, 5734)\n",
    "}\n",
    "\n",
    "parametros_diabetes = {\n",
    "    \"p_1\": .015,\n",
    "    \"p_2\": .42,\n",
    "    \"p_3\": .6,\n",
    "    \"g_e\": 1,\n",
    "    \"i_e\": pmol_to_gd_per_liter(174, 5734)\n",
    "}\n",
    "\n",
    "dinamicaNormal = getModeloMinimo(**parametros_normais)\n",
    "dinamicaDiabetes = getModeloMinimo(**parametros_diabetes)"
   ]
  },
  {
   "cell_type": "code",
   "execution_count": 27,
   "metadata": {},
   "outputs": [
    {
     "data": {
      "image/png": "[encoded data removed]",
      "text/plain": [
       "<Figure size 640x480 with 1 Axes>"
      ]
     },
     "metadata": {},
     "output_type": "display_data"
    },
    {
     "ename": "NameError",
     "evalue": "name 'directory_path' is not defined",
     "output_type": "error",
     "traceback": [
      "\u001b[0;31m---------------------------------------------------------------------------\u001b[0m",
      "\u001b[0;31mNameError\u001b[0m                                 Traceback (most recent call last)",
      "Cell \u001b[0;32mIn[27], line 18\u001b[0m\n\u001b[1;32m     14\u001b[0m plt\u001b[38;5;241m.\u001b[39mxlabel(\u001b[38;5;124m\"\u001b[39m\u001b[38;5;124mc_g [g/l]\u001b[39m\u001b[38;5;124m\"\u001b[39m)\n\u001b[1;32m     16\u001b[0m plt\u001b[38;5;241m.\u001b[39mshow()\n\u001b[0;32m---> 18\u001b[0m fig\u001b[38;5;241m.\u001b[39msavefig(os\u001b[38;5;241m.\u001b[39mpath\u001b[38;5;241m.\u001b[39mjoin(\u001b[43mdirectory_path\u001b[49m, \u001b[38;5;124m\"\u001b[39m\u001b[38;5;124mdiagram_de_fase_diabtes.png\u001b[39m\u001b[38;5;124m\"\u001b[39m))\n",
      "\u001b[0;31mNameError\u001b[0m: name 'directory_path' is not defined"
     ]
    }
   ],
   "source": [
    "phase_plote_boundries = [0.0, 5, 0.0, 50]\n",
    "fig = plt.figure()\n",
    "\n",
    "# timedata=3600,\n",
    "streamlines = ct.phase_plane_plot(dinamicaDiabetes,\n",
    "                    pointdata=phase_plote_boundries,\n",
    "                    plot_streamlines=True,\n",
    "                    plot_equilpoints=True,\n",
    "                    plot_vectorfield=False,\n",
    "                    plot_separatrices=False)\n",
    "    \n",
    "plt.suptitle(f\"Diagrama de fase: dinâmica da diabetes\")\n",
    "plt.ylabel(\"c_i [g/l]\")\n",
    "plt.xlabel(\"c_g [g/l]\")\n",
    "\n",
    "plt.show()\n",
    "\n",
    "fig.savefig(os.path.join(directory_path, \"diagram_de_fase_diabtes.png\"))\n"
   ]
  },
  {
   "cell_type": "code",
   "execution_count": 17,
   "metadata": {},
   "outputs": [
    {
     "data": {
      "image/png": "[encoded data removed]",
      "text/plain": [
       "<Figure size 640x480 with 1 Axes>"
      ]
     },
     "metadata": {},
     "output_type": "display_data"
    },
    {
     "ename": "NameError",
     "evalue": "name 'directory_path' is not defined",
     "output_type": "error",
     "traceback": [
      "\u001b[0;31m---------------------------------------------------------------------------\u001b[0m",
      "\u001b[0;31mNameError\u001b[0m                                 Traceback (most recent call last)",
      "Cell \u001b[0;32mIn[17], line 15\u001b[0m\n\u001b[1;32m     11\u001b[0m plt\u001b[38;5;241m.\u001b[39mxlabel(\u001b[38;5;124m\"\u001b[39m\u001b[38;5;124mc_g [g/l]\u001b[39m\u001b[38;5;124m\"\u001b[39m)\n\u001b[1;32m     13\u001b[0m plt\u001b[38;5;241m.\u001b[39mshow()\n\u001b[0;32m---> 15\u001b[0m fig\u001b[38;5;241m.\u001b[39msavefig(os\u001b[38;5;241m.\u001b[39mpath\u001b[38;5;241m.\u001b[39mjoin(\u001b[43mdirectory_path\u001b[49m, \u001b[38;5;124m\"\u001b[39m\u001b[38;5;124mdiagram_de_fase_normal.png\u001b[39m\u001b[38;5;124m\"\u001b[39m))\n",
      "\u001b[0;31mNameError\u001b[0m: name 'directory_path' is not defined"
     ]
    }
   ],
   "source": [
    "# timedata=3600,\n",
    "streamlines = ct.phase_plane_plot(dinamicaNormal,\n",
    "                    pointdata=phase_plote_boundries,\n",
    "                    plot_streamlines=True,\n",
    "                    plot_equilpoints=True,\n",
    "                    plot_vectorfield=False,\n",
    "                    plot_separatrices=False)\n",
    "    \n",
    "plt.suptitle(f\"Diagrama de fase: dinâmica saudável\")\n",
    "plt.ylabel(\"c_i [g/l]\")\n",
    "plt.xlabel(\"c_g [g/l]\")\n",
    "\n",
    "plt.show()\n",
    "\n",
    "fig.savefig(os.path.join(directory_path, \"diagram_de_fase_normal.png\"))"
   ]
  },
  {
   "cell_type": "code",
   "execution_count": null,
   "metadata": {},
   "outputs": [],
   "source": [
    "def plot_state_trajectory(reponse: ct.timeresp.TimeResponseData):    \n",
    "    fig = plt.figure()\n",
    "    c_g = reponse.outputs[0]\n",
    "    c_i = reponse.outputs[1]\n",
    "    plt.plot(c_g, c_i, \"-\")\n",
    "    plt.xlabel(r\"c_g [g/l]\")\n",
    "    plt.ylabel(r\"c_i [g/l]\")\n",
    "    \n",
    "    return fig"
   ]
  },
  {
   "cell_type": "code",
   "execution_count": null,
   "metadata": {},
   "outputs": [],
   "source": [
    "def simulate_food_intake(model: ct.InputOutputSystem, initial_state, ufun, elapsedTime = 10800):\n",
    "    dt_in_minutes = elapsedTime\n",
    "    t = np.arange(0, elapsedTime, 1)\n",
    "    u = ufun(t)\n",
    "    response = ct.input_output_response(model, t, u, initial_state)\n",
    "    return response"
   ]
  },
  {
   "cell_type": "code",
   "execution_count": null,
   "metadata": {},
   "outputs": [],
   "source": [
    "initial_state = [1.75, 1]\n",
    "equilibrium_state = [parametros_normais[\"g_e\"], 0]\n",
    "\n",
    "u_0 = pmol_to_gd_per_liter(350, 5734)\n",
    "u = lambda temp: [u_0*(2**(-(1/60)*t)) for t in temp]\n",
    "\n",
    "responseNormal = simulate_food_intake(dinamicaNormal, initial_state, u, elapsedTime=2*60)\n",
    "responseDiabetes = simulate_food_intake(dinamicaDiabetes, initial_state, u, elapsedTime=2*60)\n"
   ]
  },
  {
   "cell_type": "code",
   "execution_count": null,
   "metadata": {},
   "outputs": [],
   "source": [
    "fig = plt.figure()\n",
    "step_plots = ct.time_response_plot(responseDiabetes, overlay_traces=True, overlay_signals=True, plot_inputs=None)\n",
    "\n",
    "fig.suptitle(f\"Resposta do sistema após a alimentação: diabético\")\n",
    "for ax in fig.axes:\n",
    "    ax.grid(visible=True)\n",
    "\n",
    "fig.axes[0].set_ylabel(\"c [g/l]\")\n",
    "fig.axes[1].set_ylabel(\"u [g/l]\")\n",
    "\n",
    "plt.xlabel(\"tempo [min]\")\n",
    "\n",
    "plt.show()\n",
    "\n",
    "fig.savefig(os.path.join(directory_path, \"alimentação_diabetes.png\"))"
   ]
  },
  {
   "cell_type": "code",
   "execution_count": null,
   "metadata": {},
   "outputs": [],
   "source": [
    "fig = plt.figure()\n",
    "step_plots = ct.time_response_plot(responseNormal, overlay_traces=True, overlay_signals=True, plot_inputs=None)\n",
    "\n",
    "fig.suptitle(f\"Resposta do sistema após a alimentação: saudável\")\n",
    "for ax in fig.axes:\n",
    "    ax.grid(visible=True)\n",
    "\n",
    "fig.axes[0].set_ylabel(\"c [g/l]\")\n",
    "fig.axes[1].set_ylabel(\"u [g/l]\")\n",
    "\n",
    "plt.xlabel(\"tempo [min]\")\n",
    "\n",
    "plt.show()\n",
    "\n",
    "fig.savefig(os.path.join(directory_path, \"alimentação_saudave.png\"))"
   ]
  },
  {
   "cell_type": "code",
   "execution_count": null,
   "metadata": {},
   "outputs": [],
   "source": [
    "fig = plot_state_trajectory(responseDiabetes)\n",
    "fig.suptitle(f\"Trajetória do sistema: diabético\")"
   ]
  },
  {
   "cell_type": "code",
   "execution_count": null,
   "metadata": {},
   "outputs": [],
   "source": [
    "fig = plot_state_trajectory(responseNormal)\n",
    "fig.suptitle(f\"Trajetória do sistema: saudável\")\n",
    "fig.savefig('output', \"figure.png\")"
   ]
  },
  {
   "cell_type": "code",
   "execution_count": null,
   "metadata": {},
   "outputs": [],
   "source": [
    "import os\n",
    "import matplotlib.pyplot as plt\n",
    "\n",
    "# Create a folder in the project directory\n",
    "folder_name = \"output\"\n",
    "os.makedirs(folder_name, exist_ok=True)\n",
    "\n",
    "# Save the graphics\n",
    "fig.savefig(os.path.join(folder_name, \"figure.png\"))\n",
    "\n",
    "# # Save the simulation parameters to a text file\n",
    "# with open(os.path.join(folder_name, \"simulation_parameters.txt\"), \"w\") as file:\n",
    "#     file.write(\"Simulation Parameters:\\n\")\n",
    "#     file.write(f\"Parameter 1: {parameter1}\\n\")\n",
    "#     file.write(f\"Parameter 2: {parameter2}\\n\")\n",
    "#     # Write other parameters\n",
    "\n",
    "# Move the saved graphics and files to the folder\n",
    "# You can use the shutil module to move files if needed"
   ]
  },
  {
   "cell_type": "code",
   "execution_count": null,
   "metadata": {},
   "outputs": [],
   "source": []
  }
 ],
 "metadata": {
  "kernelspec": {
   "display_name": "Python 3",
   "language": "python",
   "name": "python3"
  },
  "language_info": {
   "codemirror_mode": {
    "name": "ipython",
    "version": 3
   },
   "file_extension": ".py",
   "mimetype": "text/x-python",
   "name": "python",
   "nbconvert_exporter": "python",
   "pygments_lexer": "ipython3",
   "version": "3.12.3"
  }
 },
 "nbformat": 4,
 "nbformat_minor": 2
}
